{
  "nbformat": 4,
  "nbformat_minor": 0,
  "metadata": {
    "colab": {
      "provenance": [],
      "authorship_tag": "ABX9TyPzwdG8AqlbxvIYfHsIiZ32",
      "include_colab_link": true
    },
    "kernelspec": {
      "name": "python3",
      "display_name": "Python 3"
    },
    "language_info": {
      "name": "python"
    }
  },
  "cells": [
    {
      "cell_type": "markdown",
      "metadata": {
        "id": "view-in-github",
        "colab_type": "text"
      },
      "source": [
        "<a href=\"https://colab.research.google.com/github/SD2711/Python_university/blob/main/Calculator.ipynb\" target=\"_parent\"><img src=\"https://colab.research.google.com/assets/colab-badge.svg\" alt=\"Open In Colab\"/></a>"
      ]
    },
    {
      "cell_type": "markdown",
      "source": [
        "**Проект 1: Консольный калькулятор с меню и историей операций**\n",
        "\n",
        "📝 Техническое задание:\n",
        "Разработайте интерактивное консольное приложение «Калькулятор», которое:\n",
        "\n",
        "Предоставляет пользователю текстовое меню с выбором математических операций: сложение, вычитание, умножение, деление, возведение в степень, остаток от деления, целочисленное деление.\n",
        "\n",
        "Принимает числовые значения от пользователя и выполняет выбранную операцию.\n",
        "Сохраняет историю всех вычислений (в виде строк, например: “5 + 3 = 8”) и позволяет в любой момент:\n",
        "\n",
        "Просмотреть всю историю.\n",
        "\n",
        "Очистить историю.\n",
        "\n",
        "Обеспечивает корректную обработку ошибок: деление на ноль, ввод нечисловых данных, неверный выбор пункта меню.\n",
        "\n",
        "Работает в цикле до явного выбора пользователем команды «Выход».Каждая новая функциональная часть (меню, операции, история, обработка ошибок) фиксируется отдельным коммитом в репозитории.\n",
        "---\n",
        "\n"
      ],
      "metadata": {
        "id": "mZZZ8d2UFFvJ"
      }
    },
    {
      "cell_type": "code",
      "source": [
        "import sqlite3, json, csv, datetime\n",
        "\n",
        "DB_FILE = 'history.db'\n",
        "CSV_EXPORT = 'history_export.csv'\n",
        "JSON_EXPORT = 'history_export.json'"
      ],
      "metadata": {
        "id": "qsOugH95K5kW"
      },
      "execution_count": null,
      "outputs": []
    }
  ]
}